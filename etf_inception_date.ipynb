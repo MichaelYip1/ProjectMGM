{
 "cells": [
  {
   "cell_type": "code",
   "execution_count": 15,
   "id": "aed6b34e-668c-4697-b3aa-ed1907fe8f1e",
   "metadata": {},
   "outputs": [
    {
     "data": {
      "text/plain": [
       "'\\nDownload ETF inception dates from yfinance\\nDownloading top performing list of ETFs only to check against returns analysis.\\n'"
      ]
     },
     "execution_count": 15,
     "metadata": {},
     "output_type": "execute_result"
    }
   ],
   "source": [
    "'''\n",
    "Download ETF inception dates from yfinance\n",
    "Downloading top performing list of ETFs only to check against returns analysis.\n",
    "'''"
   ]
  },
  {
   "cell_type": "code",
   "execution_count": null,
   "id": "a756e1d9-4ff9-426b-bb0a-7001b591a896",
   "metadata": {},
   "outputs": [],
   "source": [
    "# Download libraries\n",
    "import yfinance as yf\n",
    "import pandas as pd"
   ]
  },
  {
   "cell_type": "code",
   "execution_count": 62,
   "id": "bf270442-fc9f-4661-a212-f77c2dfc69ac",
   "metadata": {},
   "outputs": [],
   "source": [
    "# get ETF inception date from yfinance:\n",
    "\n",
    "\n",
    "def ticker_date(ticker_list):\n",
    "    ticker_date_list = []\n",
    "\n",
    "    for ticker in ticker_list:\n",
    "        ticker = yf.Ticker(ticker)\n",
    "        incept_date = ticker.info[\"fundInceptionDate\"]\n",
    "    \n",
    "    return incept_date\n",
    "    "
   ]
  },
  {
   "cell_type": "code",
   "execution_count": 63,
   "id": "151774cb-258e-4c27-965f-2d3e4e7fe6e9",
   "metadata": {},
   "outputs": [
    {
     "data": {
      "text/plain": [
       "1181692800"
      ]
     },
     "execution_count": 63,
     "metadata": {},
     "output_type": "execute_result"
    }
   ],
   "source": [
    "ticker_date(['SOXL','TQQQ','SMH','ARKK','TAN','VGT','XLK','QQQ','PBD'])\n"
   ]
  },
  {
   "cell_type": "code",
   "execution_count": 64,
   "id": "f2290422-9e7f-4cc1-b6fd-9d8318164508",
   "metadata": {},
   "outputs": [
    {
     "data": {
      "text/plain": [
       "[]"
      ]
     },
     "execution_count": 64,
     "metadata": {},
     "output_type": "execute_result"
    }
   ],
   "source": [
    "ticker_date_list"
   ]
  },
  {
   "cell_type": "code",
   "execution_count": null,
   "id": "c30e02b3-dfca-459f-8e32-789aacda73db",
   "metadata": {},
   "outputs": [],
   "source": [
    "SOXL = yf.Ticker(\"SOXL\")\n",
    "SOXL.info"
   ]
  },
  {
   "cell_type": "code",
   "execution_count": 35,
   "id": "159ce15a-516f-42a6-8033-d3ed24079d69",
   "metadata": {},
   "outputs": [
    {
     "data": {
      "text/plain": [
       "1268265600"
      ]
     },
     "execution_count": 35,
     "metadata": {},
     "output_type": "execute_result"
    }
   ],
   "source": [
    "SOXL_date = SOXL.info[\"fundInceptionDate\"]\n",
    "SOXL_date"
   ]
  },
  {
   "cell_type": "code",
   "execution_count": 36,
   "id": "3f40ae46-21b9-41cf-8a70-bb0cc2cacbb5",
   "metadata": {},
   "outputs": [
    {
     "data": {
      "text/plain": [
       "Timestamp('2010-03-11 00:00:00')"
      ]
     },
     "execution_count": 36,
     "metadata": {},
     "output_type": "execute_result"
    }
   ],
   "source": [
    "# convert Unix date into date format\n",
    "\n",
    "SOXL_date = pd.to_datetime(SOXL_date,unit='s')\n",
    "SOXL_date\n"
   ]
  },
  {
   "cell_type": "code",
   "execution_count": null,
   "id": "5540df20-e0ba-46bc-8833-ec4c05931c11",
   "metadata": {},
   "outputs": [],
   "source": [
    "'TQQQ','SMH','ARKK','TAN','VGT','XLK','QQQ','PBD'"
   ]
  },
  {
   "cell_type": "code",
   "execution_count": null,
   "id": "fc3b0e44-f46e-4d82-a2f9-981794276017",
   "metadata": {},
   "outputs": [],
   "source": []
  },
  {
   "cell_type": "code",
   "execution_count": null,
   "id": "2ad25185-a768-4da0-91b8-5150a7ef6617",
   "metadata": {},
   "outputs": [],
   "source": []
  },
  {
   "cell_type": "code",
   "execution_count": null,
   "id": "9ad6814f-9ee1-467f-8f01-639c3caeec74",
   "metadata": {},
   "outputs": [],
   "source": []
  },
  {
   "cell_type": "code",
   "execution_count": null,
   "id": "795bb288-4fe4-4090-9d0c-e1a85a91e535",
   "metadata": {},
   "outputs": [],
   "source": []
  }
 ],
 "metadata": {
  "kernelspec": {
   "display_name": "Python [conda env:alpacaenv]",
   "language": "python",
   "name": "conda-env-alpacaenv-py"
  },
  "language_info": {
   "codemirror_mode": {
    "name": "ipython",
    "version": 3
   },
   "file_extension": ".py",
   "mimetype": "text/x-python",
   "name": "python",
   "nbconvert_exporter": "python",
   "pygments_lexer": "ipython3",
   "version": "3.7.9"
  }
 },
 "nbformat": 4,
 "nbformat_minor": 5
}
